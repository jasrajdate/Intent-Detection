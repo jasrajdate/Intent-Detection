{
 "cells": [
  {
   "cell_type": "code",
   "execution_count": 338,
   "metadata": {},
   "outputs": [],
   "source": [
    "\n",
    "import pandas as pd\n",
    "import matplotlib.pyplot as plt\n",
    "import re\n",
    "import nltk\n",
    "from nltk.corpus import stopwords\n",
    "from nltk.stem import PorterStemmer\n",
    "from nltk.stem import WordNetLemmatizer\n",
    "from sklearn.feature_extraction.text import CountVectorizer, TfidfVectorizer\n",
    "from sklearn.neighbors import KNeighborsClassifier\n",
    "from sklearn.naive_bayes import GaussianNB\n",
    "from sklearn.svm import SVC\n",
    "from sklearn import linear_model\n",
    "from sklearn.ensemble import RandomForestClassifier\n",
    "from sklearn.ensemble import ExtraTreesClassifier\n",
    "from sklearn.metrics import f1_score\n",
    "\n",
    "from sklearn.metrics import accuracy_score\n",
    "from sklearn.metrics import classification_report\n",
    "from scipy.sparse import csr_matrix\n",
    "\n",
    "%matplotlib inline\n",
    "\n"
   ]
  },
  {
   "cell_type": "code",
   "execution_count": 339,
   "metadata": {},
   "outputs": [],
   "source": [
    "# Data conversion\n",
    "def getdata(file):\n",
    "    rawdata = open(file,\"r\")\n",
    "\n",
    "    messages = []\n",
    "    intent = []\n",
    "    for line in rawdata.readlines(): \n",
    "        sentence = line.split(\"\\t\")\n",
    "\n",
    "        actual_words = sentence[0].split(\" \")\n",
    "        encoded_words = sentence[1].split(\" \")\n",
    "\n",
    "        for index, word in enumerate(encoded_words):\n",
    "            if word == \"O\":\n",
    "                encoded_words[index] = actual_words[index]\n",
    "\n",
    "        msg = \" \".join(encoded_words[1:-1])\n",
    "        label = encoded_words[-1][0:-1]\n",
    "\n",
    "        messages.append(msg)\n",
    "        intent.append(label)\n",
    "\n",
    "    data = pd.DataFrame(data={'message':messages,'intent':intent})\n",
    "    return data"
   ]
  },
  {
   "cell_type": "code",
   "execution_count": 340,
   "metadata": {},
   "outputs": [],
   "source": [
    "train = getdata(\"atis-2.train.w-intent.iob.txt\")\n",
    "test = getdata(\"atis.test.w-intent.iob.txt\")\n"
   ]
  },
  {
   "cell_type": "code",
   "execution_count": 341,
   "metadata": {
    "scrolled": true
   },
   "outputs": [
    {
     "data": {
      "text/html": [
       "<div>\n",
       "<style scoped>\n",
       "    .dataframe tbody tr th:only-of-type {\n",
       "        vertical-align: middle;\n",
       "    }\n",
       "\n",
       "    .dataframe tbody tr th {\n",
       "        vertical-align: top;\n",
       "    }\n",
       "\n",
       "    .dataframe thead th {\n",
       "        text-align: right;\n",
       "    }\n",
       "</style>\n",
       "<table border=\"1\" class=\"dataframe\">\n",
       "  <thead>\n",
       "    <tr style=\"text-align: right;\">\n",
       "      <th></th>\n",
       "      <th>message</th>\n",
       "      <th>intent</th>\n",
       "    </tr>\n",
       "  </thead>\n",
       "  <tbody>\n",
       "    <tr>\n",
       "      <th>0</th>\n",
       "      <td>i would like to find a flight from B-fromloc.c...</td>\n",
       "      <td>atis_flight</td>\n",
       "    </tr>\n",
       "    <tr>\n",
       "      <th>1</th>\n",
       "      <td>on B-depart_date.month_name B-depart_date.day_...</td>\n",
       "      <td>atis_airfare</td>\n",
       "    </tr>\n",
       "    <tr>\n",
       "      <th>2</th>\n",
       "      <td>on B-depart_date.month_name B-depart_date.day_...</td>\n",
       "      <td>atis_flight</td>\n",
       "    </tr>\n",
       "    <tr>\n",
       "      <th>3</th>\n",
       "      <td>i would like a flight traveling B-round_trip I...</td>\n",
       "      <td>atis_flight</td>\n",
       "    </tr>\n",
       "    <tr>\n",
       "      <th>4</th>\n",
       "      <td>i would like a flight from B-fromloc.city_name...</td>\n",
       "      <td>atis_flight</td>\n",
       "    </tr>\n",
       "  </tbody>\n",
       "</table>\n",
       "</div>"
      ],
      "text/plain": [
       "                                             message        intent\n",
       "0  i would like to find a flight from B-fromloc.c...   atis_flight\n",
       "1  on B-depart_date.month_name B-depart_date.day_...  atis_airfare\n",
       "2  on B-depart_date.month_name B-depart_date.day_...   atis_flight\n",
       "3  i would like a flight traveling B-round_trip I...   atis_flight\n",
       "4  i would like a flight from B-fromloc.city_name...   atis_flight"
      ]
     },
     "execution_count": 341,
     "metadata": {},
     "output_type": "execute_result"
    }
   ],
   "source": [
    "test.head()"
   ]
  },
  {
   "cell_type": "code",
   "execution_count": 342,
   "metadata": {
    "scrolled": true
   },
   "outputs": [
    {
     "data": {
      "text/plain": [
       "intent\n",
       "atis_abbreviation                             56\n",
       "atis_aircraft                                 67\n",
       "atis_aircraft#atis_flight#atis_flight_no       1\n",
       "atis_airfare                                 321\n",
       "atis_airline                                 109\n",
       "atis_airline#atis_flight_no                    2\n",
       "atis_airport                                  16\n",
       "atis_capacity                                 13\n",
       "atis_cheapest                                  1\n",
       "atis_city                                     17\n",
       "atis_distance                                 16\n",
       "atis_flight                                 2567\n",
       "atis_flight#atis_airfare                      11\n",
       "atis_flight_no                                12\n",
       "atis_flight_time                              40\n",
       "atis_ground_fare                              14\n",
       "atis_ground_service                          177\n",
       "atis_ground_service#atis_ground_fare           1\n",
       "atis_meal                                      6\n",
       "atis_quantity                                 37\n",
       "atis_restriction                               3\n",
       "Name: message, dtype: int64"
      ]
     },
     "execution_count": 342,
     "metadata": {},
     "output_type": "execute_result"
    }
   ],
   "source": [
    "train.groupby('intent')['message'].nunique()"
   ]
  },
  {
   "cell_type": "code",
   "execution_count": 343,
   "metadata": {},
   "outputs": [],
   "source": [
    "\n",
    "## Clean Data\n",
    "stops = set(stopwords.words(\"english\"))\n",
    "def cleandata(text, lowercase = False, remove_stops = False, stemming = False,lemmatize=False):\n",
    "    txt = str(text)\n",
    "   \n",
    "    txt = re.sub(r'\\n',r' ',txt)\n",
    "    \n",
    "    if lowercase:\n",
    "        txt = \" \".join([w.lower() for w in txt.split()])\n",
    "        \n",
    "    if remove_stops:\n",
    "        txt = \" \".join([w for w in txt.split() if w not in stops])\n",
    "    \n",
    "    if stemming:\n",
    "        st = PorterStemmer()\n",
    "        txt = \" \".join([st.stem(w) for w in txt.split()])\n",
    "\n",
    "    if lemmatize:\n",
    "        lemmatizer = WordNetLemmatizer()\n",
    "        txt = \" \".join([lemmatizer.lemmatize(w, pos='v') for w in txt.split()])\n",
    "        \n",
    "    return txt"
   ]
  },
  {
   "cell_type": "code",
   "execution_count": 344,
   "metadata": {},
   "outputs": [],
   "source": [
    "\n",
    "## Clean data \n",
    "trainClean = train['message'].map(lambda x: cleandata(x, lowercase=True,remove_stops=True, stemming=True, lemmatize=True))\n",
    "testClean = test['message'].map(lambda x: cleandata(x, lowercase=True,remove_stops=True, stemming=True, lemmatize =True))\n",
    "\n",
    "# Feature extraction\n",
    "vectorizer = TfidfVectorizer(analyzer='word', min_df=0.0, max_df=1.0,max_features=1024, ngram_range=(1,2))\n",
    "vec = vectorizer.fit(trainClean)\n",
    "\n",
    "X_train = vec.transform(trainClean)\n",
    "X_test = vec.transform(testClean)\n",
    "y_train = train['intent']\n",
    "y_test = test['intent']"
   ]
  },
  {
   "cell_type": "code",
   "execution_count": 345,
   "metadata": {},
   "outputs": [
    {
     "name": "stdout",
     "output_type": "stream",
     "text": [
      "Multi-class accuracy: 0.9025755879059351 \n",
      "\n",
      "                             precision    recall  f1-score   support\n",
      "\n",
      "          atis_abbreviation       0.77      1.00      0.87        33\n",
      "              atis_aircraft       1.00      0.67      0.80         9\n",
      "               atis_airfare       0.94      0.65      0.77        48\n",
      "   atis_airfare#atis_flight       0.00      0.00      0.00         1\n",
      "               atis_airline       1.00      0.87      0.93        38\n",
      "               atis_airport       1.00      0.56      0.71        18\n",
      "              atis_capacity       1.00      0.90      0.95        21\n",
      "                  atis_city       0.60      0.50      0.55         6\n",
      "              atis_day_name       0.00      0.00      0.00         2\n",
      "              atis_distance       0.57      0.40      0.47        10\n",
      "                atis_flight       0.92      0.98      0.95       632\n",
      "   atis_flight#atis_airfare       0.00      0.00      0.00        12\n",
      "   atis_flight#atis_airline       0.00      0.00      0.00         1\n",
      "             atis_flight_no       1.00      0.62      0.77         8\n",
      "atis_flight_no#atis_airline       0.00      0.00      0.00         1\n",
      "           atis_flight_time       1.00      1.00      1.00         1\n",
      "           atis_ground_fare       1.00      0.29      0.44         7\n",
      "        atis_ground_service       0.73      1.00      0.85        36\n",
      "                  atis_meal       0.00      0.00      0.00         6\n",
      "              atis_quantity       0.33      0.33      0.33         3\n",
      "\n",
      "                  micro avg       0.90      0.90      0.90       893\n",
      "                  macro avg       0.59      0.49      0.52       893\n",
      "               weighted avg       0.88      0.90      0.89       893\n",
      "\n"
     ]
    },
    {
     "name": "stderr",
     "output_type": "stream",
     "text": [
      "C:\\Users\\Jasraj\\Anaconda 2\\lib\\site-packages\\sklearn\\metrics\\classification.py:1143: UndefinedMetricWarning: Precision and F-score are ill-defined and being set to 0.0 in labels with no predicted samples.\n",
      "  'precision', 'predicted', average, warn_for)\n"
     ]
    }
   ],
   "source": [
    "\n",
    "neigh = KNeighborsClassifier(n_neighbors=5, weights=\"distance\", p=2)\n",
    "neigh_train = neigh.fit(X_train, y_train) \n",
    "y_pred = neigh_train.predict(X_test)\n",
    "\n",
    "print(\"Multi-class accuracy:\",accuracy_score(y_test, y_pred),\"\\n\")\n",
    "print(classification_report(y_test, y_pred))"
   ]
  },
  {
   "cell_type": "code",
   "execution_count": 346,
   "metadata": {
    "scrolled": true
   },
   "outputs": [
    {
     "name": "stdout",
     "output_type": "stream",
     "text": [
      "Multi-class accuracy: 0.5711086226203808 \n",
      "\n",
      "                             precision    recall  f1-score   support\n",
      "\n",
      "          atis_abbreviation       0.55      0.79      0.65        33\n",
      "              atis_aircraft       0.37      0.78      0.50         9\n",
      "               atis_airfare       0.37      0.69      0.48        48\n",
      "   atis_airfare#atis_flight       0.00      0.00      0.00         1\n",
      "               atis_airline       0.50      0.18      0.27        38\n",
      "atis_airline#atis_flight_no       0.00      0.00      0.00         0\n",
      "               atis_airport       0.80      0.44      0.57        18\n",
      "              atis_capacity       0.83      0.90      0.86        21\n",
      "                  atis_city       0.60      0.50      0.55         6\n",
      "              atis_day_name       0.00      0.00      0.00         2\n",
      "              atis_distance       1.00      0.60      0.75        10\n",
      "                atis_flight       0.89      0.56      0.69       632\n",
      "   atis_flight#atis_airfare       0.00      0.00      0.00        12\n",
      "   atis_flight#atis_airline       0.00      0.00      0.00         1\n",
      "             atis_flight_no       0.03      0.38      0.06         8\n",
      "atis_flight_no#atis_airline       0.00      0.00      0.00         1\n",
      "           atis_flight_time       0.03      1.00      0.06         1\n",
      "           atis_ground_fare       0.83      0.71      0.77         7\n",
      "        atis_ground_service       0.71      0.97      0.82        36\n",
      "                  atis_meal       0.00      0.00      0.00         6\n",
      "              atis_quantity       0.00      0.00      0.00         3\n",
      "\n",
      "                  micro avg       0.57      0.57      0.57       893\n",
      "                  macro avg       0.36      0.41      0.34       893\n",
      "               weighted avg       0.78      0.57      0.64       893\n",
      "\n"
     ]
    },
    {
     "name": "stderr",
     "output_type": "stream",
     "text": [
      "C:\\Users\\Jasraj\\Anaconda 2\\lib\\site-packages\\sklearn\\metrics\\classification.py:1143: UndefinedMetricWarning: Precision and F-score are ill-defined and being set to 0.0 in labels with no predicted samples.\n",
      "  'precision', 'predicted', average, warn_for)\n",
      "C:\\Users\\Jasraj\\Anaconda 2\\lib\\site-packages\\sklearn\\metrics\\classification.py:1145: UndefinedMetricWarning: Recall and F-score are ill-defined and being set to 0.0 in labels with no true samples.\n",
      "  'recall', 'true', average, warn_for)\n"
     ]
    }
   ],
   "source": [
    "clf = GaussianNB()\n",
    "clf.fit(X_train.toarray(),y_train)\n",
    "y_pred = clf.predict(X_test.toarray())\n",
    "\n",
    "print(\"Multi-class accuracy:\",accuracy_score(y_test, y_pred),\"\\n\")\n",
    "print(classification_report(y_test, y_pred))"
   ]
  },
  {
   "cell_type": "code",
   "execution_count": 347,
   "metadata": {
    "scrolled": false
   },
   "outputs": [
    {
     "name": "stdout",
     "output_type": "stream",
     "text": [
      "Multi-class accuracy: 0.9473684210526315 \n",
      "\n",
      "                             precision    recall  f1-score   support\n",
      "\n",
      "          atis_abbreviation       0.97      1.00      0.99        33\n",
      "              atis_aircraft       0.69      1.00      0.82         9\n",
      "               atis_airfare       0.91      1.00      0.95        48\n",
      "   atis_airfare#atis_flight       0.00      0.00      0.00         1\n",
      "               atis_airline       0.97      1.00      0.99        38\n",
      "               atis_airport       0.94      0.89      0.91        18\n",
      "              atis_capacity       1.00      0.95      0.98        21\n",
      "                  atis_city       0.60      0.50      0.55         6\n",
      "              atis_day_name       0.00      0.00      0.00         2\n",
      "              atis_distance       1.00      0.40      0.57        10\n",
      "                atis_flight       0.96      0.98      0.97       632\n",
      "   atis_flight#atis_airfare       1.00      0.33      0.50        12\n",
      "   atis_flight#atis_airline       0.00      0.00      0.00         1\n",
      "             atis_flight_no       1.00      0.88      0.93         8\n",
      "atis_flight_no#atis_airline       0.00      0.00      0.00         1\n",
      "           atis_flight_time       1.00      1.00      1.00         1\n",
      "           atis_ground_fare       1.00      0.43      0.60         7\n",
      "        atis_ground_service       0.90      1.00      0.95        36\n",
      "                  atis_meal       0.00      0.00      0.00         6\n",
      "              atis_quantity       0.43      1.00      0.60         3\n",
      "\n",
      "                  micro avg       0.95      0.95      0.95       893\n",
      "                  macro avg       0.67      0.62      0.62       893\n",
      "               weighted avg       0.94      0.95      0.94       893\n",
      "\n"
     ]
    },
    {
     "name": "stderr",
     "output_type": "stream",
     "text": [
      "C:\\Users\\Jasraj\\Anaconda 2\\lib\\site-packages\\sklearn\\metrics\\classification.py:1143: UndefinedMetricWarning: Precision and F-score are ill-defined and being set to 0.0 in labels with no predicted samples.\n",
      "  'precision', 'predicted', average, warn_for)\n"
     ]
    }
   ],
   "source": [
    "clf = SVC(kernel=\"linear\", C=10)\n",
    "\n",
    "clf.fit(X_train.toarray(),y_train)\n",
    "y_pred = clf.predict(X_test.toarray())\n",
    "\n",
    "print(\"Multi-class accuracy:\",accuracy_score(y_test, y_pred),\"\\n\")\n",
    "print(classification_report(y_test, y_pred))"
   ]
  },
  {
   "cell_type": "code",
   "execution_count": 348,
   "metadata": {
    "scrolled": true
   },
   "outputs": [
    {
     "name": "stdout",
     "output_type": "stream",
     "text": [
      "Multi-class accuracy: 0.93505039193729 \n",
      "\n",
      "                             precision    recall  f1-score   support\n",
      "\n",
      "          atis_abbreviation       1.00      0.97      0.98        33\n",
      "              atis_aircraft       0.60      1.00      0.75         9\n",
      "               atis_airfare       0.81      0.98      0.89        48\n",
      "   atis_airfare#atis_flight       0.00      0.00      0.00         1\n",
      "               atis_airline       1.00      0.97      0.99        38\n",
      "               atis_airport       0.94      0.94      0.94        18\n",
      "              atis_capacity       1.00      0.86      0.92        21\n",
      "                  atis_city       0.50      0.83      0.62         6\n",
      "              atis_day_name       0.00      0.00      0.00         2\n",
      "              atis_distance       1.00      0.30      0.46        10\n",
      "                atis_flight       0.97      0.98      0.97       632\n",
      "   atis_flight#atis_airfare       0.00      0.00      0.00        12\n",
      "   atis_flight#atis_airline       0.00      0.00      0.00         1\n",
      "             atis_flight_no       1.00      1.00      1.00         8\n",
      "atis_flight_no#atis_airline       0.00      0.00      0.00         1\n",
      "           atis_flight_time       1.00      1.00      1.00         1\n",
      "           atis_ground_fare       1.00      0.14      0.25         7\n",
      "        atis_ground_service       0.82      1.00      0.90        36\n",
      "                  atis_meal       0.00      0.00      0.00         6\n",
      "              atis_quantity       0.20      0.33      0.25         3\n",
      "\n",
      "                  micro avg       0.94      0.94      0.94       893\n",
      "                  macro avg       0.59      0.57      0.55       893\n",
      "               weighted avg       0.92      0.94      0.92       893\n",
      "\n"
     ]
    },
    {
     "name": "stderr",
     "output_type": "stream",
     "text": [
      "C:\\Users\\Jasraj\\Anaconda 2\\lib\\site-packages\\sklearn\\metrics\\classification.py:1143: UndefinedMetricWarning: Precision and F-score are ill-defined and being set to 0.0 in labels with no predicted samples.\n",
      "  'precision', 'predicted', average, warn_for)\n"
     ]
    }
   ],
   "source": [
    "clf = ExtraTreesClassifier(n_estimators=200)\n",
    "clf.fit(X_train.toarray(),y_train)\n",
    "y_pred = clf.predict(X_test.toarray())\n",
    "\n",
    "print(\"Multi-class accuracy:\",accuracy_score(y_test, y_pred),\"\\n\")\n",
    "print(classification_report(y_test, y_pred))"
   ]
  },
  {
   "cell_type": "code",
   "execution_count": 349,
   "metadata": {
    "scrolled": true
   },
   "outputs": [
    {
     "name": "stdout",
     "output_type": "stream",
     "text": [
      "Multi-class accuracy: 0.9361702127659575 \n",
      "\n",
      "                             precision    recall  f1-score   support\n",
      "\n",
      "          atis_abbreviation       0.94      1.00      0.97        33\n",
      "              atis_aircraft       0.73      0.89      0.80         9\n",
      "               atis_airfare       0.82      0.96      0.88        48\n",
      "   atis_airfare#atis_flight       0.00      0.00      0.00         1\n",
      "               atis_airline       1.00      1.00      1.00        38\n",
      "               atis_airport       0.94      0.83      0.88        18\n",
      "              atis_capacity       1.00      0.90      0.95        21\n",
      "                  atis_city       0.50      0.83      0.62         6\n",
      "              atis_day_name       0.00      0.00      0.00         2\n",
      "              atis_distance       1.00      0.10      0.18        10\n",
      "                atis_flight       0.96      0.99      0.97       632\n",
      "   atis_flight#atis_airfare       0.00      0.00      0.00        12\n",
      "   atis_flight#atis_airline       0.00      0.00      0.00         1\n",
      "             atis_flight_no       1.00      1.00      1.00         8\n",
      "atis_flight_no#atis_airline       0.00      0.00      0.00         1\n",
      "           atis_flight_time       1.00      1.00      1.00         1\n",
      "           atis_ground_fare       1.00      0.14      0.25         7\n",
      "        atis_ground_service       0.84      1.00      0.91        36\n",
      "                  atis_meal       0.00      0.00      0.00         6\n",
      "              atis_quantity       0.33      0.67      0.44         3\n",
      "\n",
      "                  micro avg       0.94      0.94      0.94       893\n",
      "                  macro avg       0.60      0.57      0.54       893\n",
      "               weighted avg       0.92      0.94      0.92       893\n",
      "\n"
     ]
    },
    {
     "name": "stderr",
     "output_type": "stream",
     "text": [
      "C:\\Users\\Jasraj\\Anaconda 2\\lib\\site-packages\\sklearn\\metrics\\classification.py:1143: UndefinedMetricWarning: Precision and F-score are ill-defined and being set to 0.0 in labels with no predicted samples.\n",
      "  'precision', 'predicted', average, warn_for)\n"
     ]
    }
   ],
   "source": [
    "clf = RandomForestClassifier(n_estimators=200)\n",
    "\n",
    "clf.fit(X_train.toarray(),y_train)\n",
    "y_pred = clf.predict(X_test.toarray())\n",
    "\n",
    "print(\"Multi-class accuracy:\",accuracy_score(y_test, y_pred),\"\\n\")\n",
    "print(classification_report(y_test, y_pred))"
   ]
  },
  {
   "cell_type": "code",
   "execution_count": 350,
   "metadata": {},
   "outputs": [],
   "source": [
    "Models = [/SVC(kernel=\"linear\", C=10),RandomForestClassifier(n_estimators=200),ExtraTreesClassifier(n_estimators=200),GaussianNB(),KNeighborsClassifier(n_neighbors=5, weights=\"distance\", p=2)]\n",
    "#create table to compare Model metric\n",
    "Models_columns = ['Model Name', 'Accuracy score']\n",
    "Models_compare = pd.DataFrame(columns = Models_columns)\n",
    "row_index = 0\n",
    "for alg in Models:\n",
    "\n",
    "    #set name and parameters\n",
    "    Models_name = alg.__class__.__name__\n",
    "    Models_compare.loc[row_index, 'Model Name'] = Models_name\n",
    "   #score model with cross validation: \n",
    "    alg.fit(X_train.toarray(),y_train)\n",
    "    y_pred = alg.predict(X_test.toarray())\n",
    "    Models_compare.loc[row_index, 'Accuracy score'] = accuracy_score(y_test,y_pred)  \n",
    "    row_index+=1"
   ]
  },
  {
   "cell_type": "code",
   "execution_count": 351,
   "metadata": {
    "scrolled": true
   },
   "outputs": [
    {
     "data": {
      "text/html": [
       "<div>\n",
       "<style scoped>\n",
       "    .dataframe tbody tr th:only-of-type {\n",
       "        vertical-align: middle;\n",
       "    }\n",
       "\n",
       "    .dataframe tbody tr th {\n",
       "        vertical-align: top;\n",
       "    }\n",
       "\n",
       "    .dataframe thead th {\n",
       "        text-align: right;\n",
       "    }\n",
       "</style>\n",
       "<table border=\"1\" class=\"dataframe\">\n",
       "  <thead>\n",
       "    <tr style=\"text-align: right;\">\n",
       "      <th></th>\n",
       "      <th>Model Name</th>\n",
       "      <th>Accuracy score</th>\n",
       "    </tr>\n",
       "  </thead>\n",
       "  <tbody>\n",
       "    <tr>\n",
       "      <th>3</th>\n",
       "      <td>GaussianNB</td>\n",
       "      <td>0.571109</td>\n",
       "    </tr>\n",
       "    <tr>\n",
       "      <th>4</th>\n",
       "      <td>KNeighborsClassifier</td>\n",
       "      <td>0.902576</td>\n",
       "    </tr>\n",
       "    <tr>\n",
       "      <th>1</th>\n",
       "      <td>RandomForestClassifier</td>\n",
       "      <td>0.924972</td>\n",
       "    </tr>\n",
       "    <tr>\n",
       "      <th>2</th>\n",
       "      <td>ExtraTreesClassifier</td>\n",
       "      <td>0.93841</td>\n",
       "    </tr>\n",
       "    <tr>\n",
       "      <th>0</th>\n",
       "      <td>SVC</td>\n",
       "      <td>0.947368</td>\n",
       "    </tr>\n",
       "  </tbody>\n",
       "</table>\n",
       "</div>"
      ],
      "text/plain": [
       "               Model Name Accuracy score\n",
       "3              GaussianNB       0.571109\n",
       "4    KNeighborsClassifier       0.902576\n",
       "1  RandomForestClassifier       0.924972\n",
       "2    ExtraTreesClassifier        0.93841\n",
       "0                     SVC       0.947368"
      ]
     },
     "execution_count": 351,
     "metadata": {},
     "output_type": "execute_result"
    }
   ],
   "source": [
    "Models_compare.sort_values(['Accuracy score'])"
   ]
  },
  {
   "cell_type": "code",
   "execution_count": 352,
   "metadata": {},
   "outputs": [
    {
     "name": "stderr",
     "output_type": "stream",
     "text": [
      "C:\\Users\\Jasraj\\Anaconda 2\\lib\\site-packages\\sklearn\\model_selection\\_split.py:652: Warning: The least populated class in y has only 1 members, which is too few. The minimum number of members in any class cannot be less than n_splits=7.\n",
      "  % (min_groups, self.n_splits)), Warning)\n"
     ]
    },
    {
     "name": "stdout",
     "output_type": "stream",
     "text": [
      "Multi-class accuracy: 0.963020030816641 \n",
      "\n",
      "Multi-class accuracy: 0.967391304347826 \n",
      "\n",
      "Multi-class accuracy: 0.9580093312597201 \n",
      "\n",
      "Multi-class accuracy: 0.96875 \n",
      "\n",
      "Multi-class accuracy: 0.9827586206896551 \n",
      "\n",
      "Multi-class accuracy: 0.973186119873817 \n",
      "\n",
      "Multi-class accuracy: 0.9793650793650793 \n",
      "\n"
     ]
    }
   ],
   "source": [
    "\n",
    "from sklearn.model_selection import StratifiedKFold\n",
    "skf = StratifiedKFold(n_splits=7)\n",
    "\n",
    "clf = SVC(kernel=\"linear\", C=10)\n",
    "Multi_class_accuracy=[]\n",
    "for train_index, test_index in skf.split(X_train, y_train):\n",
    "    X_train_k, X_test_k = X_train[train_index], X_train[test_index]\n",
    "    y_train_k, y_test_k = train[\"intent\"][train_index], train[\"intent\"][test_index]\n",
    "    \n",
    "    clf.fit(X_train_k,y_train_k)\n",
    "    y_pred = clf.predict(X_test_k)\n",
    "    print(\"Multi-class accuracy:\",accuracy_score(y_test_k, y_pred),\"\\n\")\n",
    "    Multi_class_accuracy.append(accuracy_score(y_test_k, y_pred))"
   ]
  },
  {
   "cell_type": "code",
   "execution_count": 353,
   "metadata": {},
   "outputs": [
    {
     "data": {
      "text/plain": [
       "0.9827586206896551"
      ]
     },
     "execution_count": 353,
     "metadata": {},
     "output_type": "execute_result"
    }
   ],
   "source": [
    "max(Multi_class_accuracy)"
   ]
  }
 ],
 "metadata": {
  "kernelspec": {
   "display_name": "Python 3",
   "language": "python",
   "name": "python3"
  },
  "language_info": {
   "codemirror_mode": {
    "name": "ipython",
    "version": 3
   },
   "file_extension": ".py",
   "mimetype": "text/x-python",
   "name": "python",
   "nbconvert_exporter": "python",
   "pygments_lexer": "ipython3",
   "version": "3.7.1"
  }
 },
 "nbformat": 4,
 "nbformat_minor": 2
}
